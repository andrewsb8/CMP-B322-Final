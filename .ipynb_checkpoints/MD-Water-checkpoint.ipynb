{
 "cells": [
  {
   "cell_type": "markdown",
   "id": "8178984f-c7a9-40a7-8b8b-5c40c2034f17",
   "metadata": {},
   "source": []
  },
  {
   "cell_type": "markdown",
   "id": "8daa0c30-dc00-4e37-8c62-75add5dd0fd3",
   "metadata": {},
   "source": [
    "Setting the environment for MD calculation\n",
    "Firstly, we need to install all necessary libraries and packages for our simulation. The main packages we will be installing are:\n",
    "\n",
    "Anaconda (https://docs.conda.io/en/latest/miniconda.html)\n",
    "OpenMM (https://openmm.org/)\n",
    "PyTraj (https://amber-md.github.io/pytraj/latest/index.html)\n",
    "py3Dmol (https://pypi.org/project/py3Dmol/)\n",
    "Numpy (https://numpy.org/)\n",
    "Matplotlib (https://matplotlib.org/)"
   ]
  },
  {
   "cell_type": "code",
   "execution_count": 1,
   "id": "36c9faa6-d835-4a4e-88df-20998cdcb384",
   "metadata": {},
   "outputs": [
    {
     "ename": "RuntimeError",
     "evalue": "This module must ONLY run as part of a Colab notebook!",
     "output_type": "error",
     "traceback": [
      "\u001b[0;31m---------------------------------------------------------------------------\u001b[0m",
      "\u001b[0;31mModuleNotFoundError\u001b[0m                       Traceback (most recent call last)",
      "File \u001b[0;32m~/miniconda3/envs/jupyter-notes/lib/python3.10/site-packages/condacolab.py:27\u001b[0m\n\u001b[1;32m     26\u001b[0m \u001b[38;5;28;01mtry\u001b[39;00m:\n\u001b[0;32m---> 27\u001b[0m     \u001b[38;5;28;01mimport\u001b[39;00m \u001b[38;5;21;01mgoogle\u001b[39;00m\u001b[38;5;21;01m.\u001b[39;00m\u001b[38;5;21;01mcolab\u001b[39;00m\n\u001b[1;32m     28\u001b[0m \u001b[38;5;28;01mexcept\u001b[39;00m \u001b[38;5;167;01mImportError\u001b[39;00m:\n",
      "\u001b[0;31mModuleNotFoundError\u001b[0m: No module named 'google'",
      "\nDuring handling of the above exception, another exception occurred:\n",
      "\u001b[0;31mRuntimeError\u001b[0m                              Traceback (most recent call last)",
      "Cell \u001b[0;32mIn[1], line 4\u001b[0m\n\u001b[1;32m      1\u001b[0m \u001b[38;5;66;03m#@title **Install Conda Colab**\u001b[39;00m\n\u001b[1;32m      2\u001b[0m \u001b[38;5;66;03m#@markdown It will restart the kernel (session), don't worry.\u001b[39;00m\n\u001b[1;32m      3\u001b[0m get_ipython()\u001b[38;5;241m.\u001b[39msystem(\u001b[38;5;124m'\u001b[39m\u001b[38;5;124mpip install -q condacolab\u001b[39m\u001b[38;5;124m'\u001b[39m)\n\u001b[0;32m----> 4\u001b[0m \u001b[38;5;28;01mimport\u001b[39;00m \u001b[38;5;21;01mcondacolab\u001b[39;00m\n\u001b[1;32m      5\u001b[0m condacolab\u001b[38;5;241m.\u001b[39minstall()\n",
      "File \u001b[0;32m~/miniconda3/envs/jupyter-notes/lib/python3.10/site-packages/condacolab.py:29\u001b[0m\n\u001b[1;32m     27\u001b[0m     \u001b[38;5;28;01mimport\u001b[39;00m \u001b[38;5;21;01mgoogle\u001b[39;00m\u001b[38;5;21;01m.\u001b[39;00m\u001b[38;5;21;01mcolab\u001b[39;00m\n\u001b[1;32m     28\u001b[0m \u001b[38;5;28;01mexcept\u001b[39;00m \u001b[38;5;167;01mImportError\u001b[39;00m:\n\u001b[0;32m---> 29\u001b[0m     \u001b[38;5;28;01mraise\u001b[39;00m \u001b[38;5;167;01mRuntimeError\u001b[39;00m(\u001b[38;5;124m\"\u001b[39m\u001b[38;5;124mThis module must ONLY run as part of a Colab notebook!\u001b[39m\u001b[38;5;124m\"\u001b[39m)\n\u001b[1;32m     32\u001b[0m __version__ \u001b[38;5;241m=\u001b[39m \u001b[38;5;124m\"\u001b[39m\u001b[38;5;124m0.1.7\u001b[39m\u001b[38;5;124m\"\u001b[39m\n\u001b[1;32m     33\u001b[0m __author__ \u001b[38;5;241m=\u001b[39m \u001b[38;5;124m\"\u001b[39m\u001b[38;5;124mJaime Rodríguez-Guerra <jaimergp@users.noreply.github.com>\u001b[39m\u001b[38;5;124m\"\u001b[39m\n",
      "\u001b[0;31mRuntimeError\u001b[0m: This module must ONLY run as part of a Colab notebook!"
     ]
    }
   ],
   "source": [
    "#@title **Install Conda Colab**\n",
    "#@markdown It will restart the kernel (session), don't worry. Only execute this if running experiment in Google Colab, not if you are executing the code on your local machine!\n",
    "!pip install -q condacolab\n",
    "import condacolab\n",
    "condacolab.install()"
   ]
  },
  {
   "cell_type": "code",
   "execution_count": null,
   "id": "0e52a738-0f35-4f45-aaf0-1e0cc4e5881d",
   "metadata": {},
   "outputs": [],
   "source": [
    "#@title **Install dependencies**\n",
    "#@markdown It will take a few minutes, please, drink a coffee and wait. ;-)\n",
    "# install dependencies\n",
    "%%capture\n",
    "!pip -q install py3Dmol\n",
    "!pip install git+https://github.com/pablo-arantes/biopandas\n",
    "!mamba install openmmforcefields -c conda-forge -y\n",
    "!pip install --upgrade MDAnalysis\n",
    "\n",
    "#load dependencies\n",
    "import sys\n",
    "from biopandas.pdb import PandasPdb\n",
    "import openmm as mm\n",
    "from openmm import *\n",
    "from openmm.app import *\n",
    "from openmm.unit import *\n",
    "import os\n",
    "import urllib.request  \n",
    "import numpy as np\n",
    "import MDAnalysis as mda\n",
    "import py3Dmol\n",
    "import pytraj as pt\n",
    "import platform\n",
    "import scipy.cluster.hierarchy\n",
    "from scipy.spatial.distance import squareform\n",
    "import scipy.stats as stats\n",
    "import matplotlib.pyplot as plt\n",
    "import pandas as pd\n",
    "from scipy.interpolate import griddata\n",
    "import seaborn as sb\n",
    "from statistics import mean, stdev\n",
    "from pytraj import matrix\n",
    "from matplotlib import colors\n",
    "from IPython.display import set_matplotlib_formats\n",
    "import subprocess"
   ]
  },
  {
   "cell_type": "code",
   "execution_count": null,
   "id": "603eda02-c899-46b9-9178-5528babe66e4",
   "metadata": {},
   "outputs": [],
   "source": [
    "#@title ### **Import Google Drive**\n",
    "#@markdown Click in the \"Run\" buttom to make your Google Drive accessible.\n",
    "from google.colab import drive\n",
    "\n",
    "drive.flush_and_unmount()\n",
    "drive.mount('/content/drive', force_remount=True)"
   ]
  },
  {
   "cell_type": "code",
   "execution_count": null,
   "id": "3fe3bb0d-0f34-4bf1-9eb1-f7c28af6da5f",
   "metadata": {},
   "outputs": [],
   "source": [
    "#@title **Check if you correctly allocated GPU nodes**\n",
    "#@markdown Again, only run this command if you are running this code in Google Colab!\n",
    "\n",
    "gpu_info = !nvidia-smi\n",
    "gpu_info = '\\n'.join(gpu_info)\n",
    "if gpu_info.find('failed') >= 0:\n",
    "  print('Select the Runtime > \"Change runtime type\" menu to enable a GPU accelerator, ')\n",
    "  print('and then re-execute this cell.')\n",
    "else:\n",
    "  print(gpu_info)"
   ]
  },
  {
   "cell_type": "code",
   "execution_count": null,
   "id": "c642b7de-0bd9-4b3a-8936-23726622e7f2",
   "metadata": {},
   "outputs": [],
   "source": []
  }
 ],
 "metadata": {
  "kernelspec": {
   "display_name": "Python 3 (ipykernel)",
   "language": "python",
   "name": "python3"
  },
  "language_info": {
   "codemirror_mode": {
    "name": "ipython",
    "version": 3
   },
   "file_extension": ".py",
   "mimetype": "text/x-python",
   "name": "python",
   "nbconvert_exporter": "python",
   "pygments_lexer": "ipython3",
   "version": "3.10.13"
  }
 },
 "nbformat": 4,
 "nbformat_minor": 5
}
