{
 "cells": [
  {
   "cell_type": "markdown",
   "id": "8178984f-c7a9-40a7-8b8b-5c40c2034f17",
   "metadata": {},
   "source": [
    "# Investigating the Dynamics of Water with Classical Molecular Dynamics Simulations"
   ]
  },
  {
   "cell_type": "markdown",
   "id": "8daa0c30-dc00-4e37-8c62-75add5dd0fd3",
   "metadata": {},
   "source": [
    "## Part 0 - Setting up the environment for Molecular Dynamics Simulations. \n",
    "\n",
    "First, we need to install all necessary libraries and packages for our simulation. The main packages we will be installing are:\n",
    "\n",
    "Anaconda (https://docs.conda.io/en/latest/miniconda.html)  \n",
    "OpenMM (https://openmm.org/)  \n",
    "MDAnalysis (https://www.mdanalysis.org/)  \n",
    "Numpy (https://numpy.org/)  \n",
    "Pandas (https://pandas.pydata.org/)  \n",
    "Matplotlib (https://matplotlib.org/)"
   ]
  },
  {
   "cell_type": "markdown",
   "id": "0c2612e7-dfc5-4f66-9255-18908956143e",
   "metadata": {},
   "source": [
    "#### Only Execute the Next Two Cells if Using Google Colab"
   ]
  },
  {
   "cell_type": "code",
   "execution_count": null,
   "id": "603eda02-c899-46b9-9178-5528babe66e4",
   "metadata": {},
   "outputs": [],
   "source": [
    "#@title ### **Import Google Drive**\n",
    "#@markdown Click the \"Run\" buttom to make your Google Drive accessible. Only run this command if in Google Colab!\n",
    "from google.colab import drive\n",
    "\n",
    "drive.flush_and_unmount()\n",
    "drive.mount('/content/drive', force_remount=True)"
   ]
  },
  {
   "cell_type": "code",
   "execution_count": null,
   "id": "3fe3bb0d-0f34-4bf1-9eb1-f7c28af6da5f",
   "metadata": {},
   "outputs": [],
   "source": [
    "#@title **Check if you correctly allocated GPU nodes**\n",
    "#@markdown Again, only run this command if you are running this code in Google Colab!\n",
    "\n",
    "gpu_info = !nvidia-smi\n",
    "gpu_info = '\\n'.join(gpu_info)\n",
    "if gpu_info.find('failed') >= 0:\n",
    "  print('Select the Runtime > \"Change runtime type\" menu to enable a GPU accelerator, ')\n",
    "  print('and then re-execute this cell.')\n",
    "else:\n",
    "  print(gpu_info)"
   ]
  },
  {
   "cell_type": "code",
   "execution_count": null,
   "id": "22704e0a-d386-40b0-9196-c327b7986a9b",
   "metadata": {
    "scrolled": true
   },
   "outputs": [],
   "source": [
    "#@title **Install dependencies**\n",
    "#@markdown It will take a few minutes, please, drink a coffee and wait.\n",
    "# install dependencies\n",
    "#%%capture\n",
    "!pip -q install py3Dmol\n",
    "!pip install git+https://github.com/pablo-arantes/biopandas\n",
    "!conda install mamba -c conda-forge -y\n",
    "!mamba install -c conda-forge gcc=12.1.0 -y\n",
    "!mamba install openmm -c conda-forge -y\n",
    "!pip install --upgrade MDAnalysis\n",
    "!pip install seaborn"
   ]
  },
  {
   "cell_type": "code",
   "execution_count": 1,
   "id": "8a823183-bb88-44a3-97b2-8b163675e26d",
   "metadata": {},
   "outputs": [],
   "source": [
    "#@title **Load dependencies**\n",
    "import sys\n",
    "import openmm as mm\n",
    "from openmm import *\n",
    "from openmm.app import *\n",
    "from openmm.unit import *\n",
    "import os\n",
    "import urllib.request  \n",
    "import numpy as np\n",
    "import MDAnalysis as mda\n",
    "from MDAnalysis.analysis.dielectric import DielectricConstant\n",
    "import py3Dmol\n",
    "import platform\n",
    "import matplotlib.pyplot as plt\n",
    "import pandas as pd\n",
    "import seaborn as sb\n",
    "from matplotlib import colors\n",
    "from IPython.display import set_matplotlib_formats\n",
    "\n",
    "#conversion factors to get to correct units\n",
    "mass_to_kg = 1.66054e-27\n",
    "angstrom_to_m = 1e-10\n",
    "ps_to_s = 1e-12\n",
    "avogadro = 6.022e23\n",
    "\n",
    "#file locations\n",
    "tip3p_traj = \"tip3p-traj.dcd\"\n",
    "tip3p_log = \"tip3p_log.csv\"\n",
    "tip3p_pdb = \"tip3p_minimized.pdb\"\n",
    "\n",
    "tip4p_traj = \"tip4p-traj.dcd\"\n",
    "tip4p_log = \"tip4p-log.csv\"\n",
    "tip4p_pdb = \"tip4p_minimized.pdb\""
   ]
  },
  {
   "cell_type": "markdown",
   "id": "65ffc124-0c4c-4a92-afc3-c79c00c2c218",
   "metadata": {},
   "source": [
    "## Part 1 - Preparing & Running a Molecular Dynamics Simulation of Water"
   ]
  },
  {
   "cell_type": "code",
   "execution_count": 2,
   "id": "c642b7de-0bd9-4b3a-8936-23726622e7f2",
   "metadata": {},
   "outputs": [
    {
     "name": "stdout",
     "output_type": "stream",
     "text": [
      "Number of TIP3P water molecules in box in (3 nm)^3 cubic box:  2661\n"
     ]
    }
   ],
   "source": [
    "#@title **Cosntruct the System**\n",
    "#@markdown Create a box with randomly placed TIP3P water molecules with periodic boundary conditions\n",
    "\n",
    "forcefield = ForceField(\"amber14-all.xml\", \"amber14/tip3p.xml\")\n",
    "modeller = Modeller(Topology(), [])\n",
    "modeller.addSolvent(forcefield, boxSize=Vec3(3, 3, 3)*nanometers, model='tip3p', neutralize=True, negativeIon='Cl-', positiveIon='Na+')\n",
    "system = forcefield.createSystem(modeller.topology, nonbondedMethod=PME,\n",
    "        nonbondedCutoff=1*nanometer, constraints=HBonds)\n",
    "print(\"Number of TIP3P water molecules in box in (3 nm)^3 cubic box: \", len(modeller.getPositions())/3) #divide by number of atoms in molecule (3)"
   ]
  },
  {
   "cell_type": "code",
   "execution_count": 44,
   "id": "0bf8313a-e7b0-4a5c-9040-a4d98783fe15",
   "metadata": {},
   "outputs": [],
   "source": [
    "#@title **Add termostat & barostat. Run energy minimization.**\n",
    "#@markdown Here we define the temperature of the system (300 K), the pressure (1 bar), assign random velocities to particles/molecules, and define our time step (dt) to be 2 fs. Then, we run a gradient descent energy minimization on the system.\n",
    "\n",
    "system = forcefield.createSystem(modeller.topology, nonbondedMethod=PME,\n",
    "        nonbondedCutoff=1*nanometer, constraints=HBonds)\n",
    "system.addForce(MonteCarloBarostat(1*bar, 300*kelvin))\n",
    "integrator = LangevinIntegrator(300*kelvin, 1/picosecond, 0.002*picoseconds)\n",
    "simulation = Simulation(modeller.topology, system, integrator)\n",
    "simulation.context.setPositions(modeller.positions)\n",
    "simulation.minimizeEnergy(tolerance=0.1*kilojoule/mole, maxIterations=100000)\n",
    "\n",
    "positions = simulation.context.getState(getPositions=True).getPositions()\n",
    "PDBFile.writeFile(simulation.topology, positions, open(tip3p_pdb, 'w'))\n"
   ]
  },
  {
   "cell_type": "code",
   "execution_count": null,
   "id": "a6f622fc-cbba-42ae-a43d-1be229a680d1",
   "metadata": {
    "scrolled": true
   },
   "outputs": [],
   "source": [
    "#@title **Visualize the System**\n",
    "\n",
    "view = py3Dmol.view(width=500, height=500)\n",
    "view.addModel(open( 'minimized.pdb' ,'r').read(),'pdb')\n",
    "view.setStyle({'stick':{}} )\n",
    "view.addSurface(py3Dmol.SAS, {'opacity': 0.3, 'color':'blue'})\n",
    "view.zoomTo()\n",
    "view.show()"
   ]
  },
  {
   "cell_type": "code",
   "execution_count": null,
   "id": "f95d04bd-8c49-44eb-b91e-4e1fbe2de608",
   "metadata": {
    "scrolled": true
   },
   "outputs": [],
   "source": [
    "#@title Run a Production Molecular Dynamics Simulation\n",
    "#@markdown This simulation should produce a ~45 MB trajectory file called traj.dcd in your Google Drive. The trajectory will contain dynamics information of water molecules over the course of 30 ns.\n",
    "\n",
    "simulation.reporters = []\n",
    "#record positions every 100 steps\n",
    "simulation.reporters.append(DCDReporter(tip3p_traj, 100))\n",
    "simulation.reporters.append(StateDataReporter(tip3p_log, 500, step=True, time=True,\n",
    "                                              temperature=True, kineticEnergy=True, elapsedTime=True))\n",
    "simulation.reporters.append(StateDataReporter(sys.stdout, 1000, step=True, time=True, elapsedTime=True))\n",
    "\n",
    "#run the simulation for defined number of steps with timestep of 2 fs\n",
    "simulation.step(15000)"
   ]
  },
  {
   "cell_type": "markdown",
   "id": "8a2cbb31-0316-4997-879c-28a85708d162",
   "metadata": {},
   "source": [
    "## Part 2 - Analyzing the Simulation"
   ]
  },
  {
   "cell_type": "code",
   "execution_count": null,
   "id": "3afbebf2-256c-4798-89a5-a208d424c573",
   "metadata": {},
   "outputs": [],
   "source": [
    "#@title Plotting Instantaneous Temperature and the Running Average Temperature\n",
    "#@markdown \n",
    "\n",
    "\n",
    "tip3p_data = pd.read_csv(tip3p_log)\n",
    "\n",
    "#calculate rolling average of the temperature\n",
    "rolling_avg = []\n",
    "for i in range(len(tip3p_data[\"Temperature (K)\"])):\n",
    "    j = i\n",
    "    rolling_avg.append(0)\n",
    "    while j >= 0 and j >= i-4:\n",
    "        rolling_avg[i] += tip3p_data[\"Temperature (K)\"][j]\n",
    "        j -= 1\n",
    "    if i < 4:\n",
    "        rolling_avg[i] = rolling_avg[i]/(i+1)\n",
    "    else:\n",
    "        rolling_avg[i] = rolling_avg[i]/(5)\n",
    "\n",
    "tip3p_data['Rolling Avg Temperature (K)'] = rolling_avg\n",
    "tip3p_data.plot(x=\"Time (ps)\", y=[\"Temperature (K)\", \"Rolling Avg Temperature (K)\"], style='-')"
   ]
  },
  {
   "cell_type": "code",
   "execution_count": null,
   "id": "efc42bd7-0e3a-42fb-a210-947b9d26e3f5",
   "metadata": {},
   "outputs": [],
   "source": [
    "#@title System Temperature and the Equipartition Theorem\n",
    "#@markdown \n",
    "\n",
    "print(\"Average Temperature (K): \", tip3p_data[\"Temperature (K)\"].mean())\n",
    "print(\"Average Kinetic Energy (kJ/mole): \", tip3p_data[\"Kinetic Energy (kJ/mole)\"].mean())\n",
    "print(\"(<KE>/<T>)*(1/Avogadro's Number): \", (tip3p_data[\"Kinetic Energy (kJ/mole)\"].mean()/tip3p_data[\"Temperature (K)\"].mean())/avogadro)"
   ]
  },
  {
   "cell_type": "code",
   "execution_count": null,
   "id": "f1990d00-5969-4968-a5e5-b91bacd6f140",
   "metadata": {},
   "outputs": [],
   "source": [
    "#@title Calculate the density and dielectric constant of TIP3P water\n",
    "#@markdown \n",
    "\n",
    "universe = mda.Universe(tip3p_pdb, tip3p_traj)\n",
    "water = universe.select_atoms(\"resname HOH\")\n",
    "\n",
    "#mass density of water - first calculate total mass of water in box\n",
    "water_mass = 0\n",
    "for i in range(len(water)):\n",
    "    water_mass += water[i].mass * mass_to_kg\n",
    "\n",
    "av_density = 0\n",
    "for p in range(25, len(universe.trajectory)):\n",
    "    universe.trajectory[p]\n",
    "\n",
    "    volume = (universe.trajectory[p].dimensions[0]*angstrom_to_m) * (universe.trajectory[p].dimensions[1]*angstrom_to_m) * (universe.trajectory[p].dimensions[2]*angstrom_to_m)\n",
    "    av_density += water_mass/volume\n",
    "\n",
    "av_density = av_density/len(universe.trajectory)\n",
    "print(\"The average density of TIP3P water is: \", av_density, \" [kg/m^3]\")\n",
    "\n",
    "\n",
    "#dielectric constant of water\n",
    "\n",
    "#need charges from OpenMM\n",
    "n_atoms = system.getNumParticles()\n",
    "charges = []\n",
    "nonbonded = [f for f in system.getForces() if isinstance(f, NonbondedForce)][0]\n",
    "for i in range(n_atoms):\n",
    "    charge, sigma, epsilon = nonbonded.getParticleParameters(i)\n",
    "    charges.append(charge._value)\n",
    "\n",
    "#add this to universe topology\n",
    "universe.add_TopologyAttr('charges', charges)\n",
    "\n",
    "#need to add bond information as well\n",
    "bonds = []\n",
    "for o in range(0, n_atoms, 3):\n",
    "    bonds.extend([(o, o+1), (o, o+2)])\n",
    "\n",
    "universe.add_TopologyAttr('bonds', bonds)\n",
    "\n",
    "#Finally calculate the dielectric constant\n",
    "diel = DielectricConstant(universe.atoms)\n",
    "diel.run()\n",
    "print(\"Dielectric constant of TIP3P water: \", diel.results.eps_mean)"
   ]
  },
  {
   "cell_type": "markdown",
   "id": "d2807237-3290-439f-95a7-606e7ba72efb",
   "metadata": {},
   "source": [
    "### A Different Representation of Water: TIP4P/2005"
   ]
  },
  {
   "cell_type": "code",
   "execution_count": null,
   "id": "a02b352d-60f8-491f-a375-3fcdbf056c10",
   "metadata": {
    "scrolled": true
   },
   "outputs": [],
   "source": [
    "#@title Simulate TIP4P/2005 water model\n",
    "\n",
    "#system setup\n",
    "forcefield = ForceField(\"charmm36.xml\", \"charmm36/tip4p2005.xml\")\n",
    "modeller = Modeller(Topology(), [])\n",
    "modeller.addSolvent(forcefield, boxSize=Vec3(3, 3, 3)*nanometers, model='tip4pew', neutralize=True, negativeIon='Cl-', positiveIon='Na+')\n",
    "modeller.addExtraParticles(forcefield)\n",
    "system = forcefield.createSystem(modeller.topology, nonbondedMethod=PME,\n",
    "        nonbondedCutoff=1*nanometer, constraints=HBonds)\n",
    "print(\"Number of TIP4P/2005 water molecules in box in (3 nm)^3 cubic box: \", len(modeller.getPositions())/4) #divide by number of atoms in molecule (4)\n",
    "\n",
    "#simulation details and energy minimization\n",
    "system = forcefield.createSystem(modeller.topology, nonbondedMethod=PME,\n",
    "        nonbondedCutoff=1*nanometer, constraints=HBonds)\n",
    "system.addForce(MonteCarloBarostat(1*bar, 300*kelvin))\n",
    "integrator = LangevinIntegrator(300*kelvin, 1/picosecond, 0.002*picoseconds)\n",
    "simulation = Simulation(modeller.topology, system, integrator)\n",
    "simulation.context.setPositions(modeller.positions)\n",
    "simulation.minimizeEnergy(tolerance=0.1*kilojoule/mole, maxIterations=100000)\n",
    "\n",
    "positions = simulation.context.getState(getPositions=True).getPositions()\n",
    "PDBFile.writeFile(simulation.topology, positions, open(tip4p_pdb, 'w'))\n",
    "\n",
    "#running simulation\n",
    "simulation.reporters = []\n",
    "simulation.reporters.append(DCDReporter(tip4p_traj, 100))\n",
    "simulation.reporters.append(StateDataReporter(tip4p_log, 500, step=True, time=True,\n",
    "                                              temperature=True, kineticEnergy=True, elapsedTime=True))\n",
    "simulation.reporters.append(StateDataReporter(sys.stdout, 1000, step=True, time=True, elapsedTime=True))\n",
    "\n",
    "simulation.step(15000)"
   ]
  },
  {
   "cell_type": "code",
   "execution_count": 84,
   "id": "fa059f0a-46d0-42da-8be9-d6c56e1e0692",
   "metadata": {},
   "outputs": [
    {
     "name": "stdout",
     "output_type": "stream",
     "text": [
      "The average density of TIP4P/2005 water is:  992.5665032283624  [kg/m^3]\n",
      "<Atom 3: H2 of type H of resname HOH, resid 1 and segid A and altLoc > 0.5564\n",
      "Dielectric constant of TIP4P/2005 water:  42.03683051390108\n"
     ]
    }
   ],
   "source": [
    "#@title Calculate the density and dielectric constant of TIP4P/2005 to compare with TIP3P\n",
    "\n",
    "#begin analysis\n",
    "universe = mda.Universe(tip4p_pdb, tip4p_traj)\n",
    "water = universe.select_atoms(\"resname HOH\")\n",
    "\n",
    "#mass density of water - first calculate total mass of water in box\n",
    "water_mass = 0\n",
    "for i in range(len(water)):\n",
    "    water_mass += water[i].mass * mass_to_kg\n",
    "\n",
    "av_density = 0\n",
    "for p in range(0, len(universe.trajectory)):\n",
    "    universe.trajectory[p]\n",
    "\n",
    "    volume = (universe.trajectory[p].dimensions[0]*angstrom_to_m) * (universe.trajectory[p].dimensions[1]*angstrom_to_m) * (universe.trajectory[p].dimensions[2]*angstrom_to_m)\n",
    "    av_density += water_mass/volume\n",
    "\n",
    "av_density = av_density/len(universe.trajectory)\n",
    "print(\"The average density of TIP4P/2005 water is: \", av_density, \" [kg/m^3]\")\n",
    "\n",
    "\n",
    "#dielectric constant of water\n",
    "\n",
    "#need charges from OpenMM\n",
    "n_atoms = system.getNumParticles()\n",
    "charges = []\n",
    "nonbonded = [f for f in system.getForces() if isinstance(f, NonbondedForce)][0]\n",
    "for i in range(n_atoms):\n",
    "    charge, sigma, epsilon = nonbonded.getParticleParameters(i)\n",
    "    charges.append(charge._value)\n",
    "\n",
    "#need to swap index i and i+3 because list 'charges' above because the oxygen and virtual site are swapped\n",
    "for i in range(0, n_atoms, 4):\n",
    "    tmp = charges[i]\n",
    "    charges[i] = charges[i+3]\n",
    "    charges[i+3] = tmp\n",
    "\n",
    "#add this to universe topology\n",
    "universe.add_TopologyAttr('charges', charges)\n",
    "\n",
    "#need to add bond information as well\n",
    "bonds = []\n",
    "for o in range(0, n_atoms, 4):\n",
    "    bonds.extend([(o, o+1), (o, o+2), (o, o+3)]) #extra term for the virtual particle\n",
    "\n",
    "universe.add_TopologyAttr('bonds', bonds)\n",
    "\n",
    "#Finally calculate the dielectric constant\n",
    "diel = DielectricConstant(universe.atoms)\n",
    "diel.run()\n",
    "print(\"Dielectric constant of TIP4P/2005 water: \", diel.results.eps_mean)"
   ]
  },
  {
   "cell_type": "markdown",
   "id": "0f81beb3-41f6-4631-8db4-75bd0eb38125",
   "metadata": {},
   "source": [
    "## Part 3 - Modeling the Freezing of Water with TIP4P/2005"
   ]
  }
 ],
 "metadata": {
  "kernelspec": {
   "display_name": "Python 3 (ipykernel)",
   "language": "python",
   "name": "python3"
  },
  "language_info": {
   "codemirror_mode": {
    "name": "ipython",
    "version": 3
   },
   "file_extension": ".py",
   "mimetype": "text/x-python",
   "name": "python",
   "nbconvert_exporter": "python",
   "pygments_lexer": "ipython3",
   "version": "3.10.13"
  }
 },
 "nbformat": 4,
 "nbformat_minor": 5
}
